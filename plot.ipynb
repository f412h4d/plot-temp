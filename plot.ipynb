{
 "cells": [
  {
   "cell_type": "code",
   "execution_count": null,
   "id": "initial_id",
   "metadata": {
    "collapsed": true,
    "is_executing": true
   },
   "outputs": [],
   "source": [
    "import pandas as pd\n",
    "import matplotlib.pyplot as plt\n",
    "import mplcursors"
   ]
  },
  {
   "cell_type": "code",
   "outputs": [],
   "source": [
    "data = pd.Series([1, 2, 3, 4, 5, 6, 7, 8, 9, 10])\n",
    "additional_data = ['A', 'B', 'C', 'D', 'E', 'F', 'G', 'H', 'I', 'J']\n",
    "\n",
    "# Create lag plot\n",
    "fig, ax = plt.subplots()\n",
    "scatter = ax.scatter(data[:-1], data[1:])\n",
    "\n",
    "# Annotate each point with the corresponding additional data\n",
    "for i, txt in enumerate(additional_data[1:]):  # Exclude the first element since there's no previous data\n",
    "    ax.annotate(txt, (data[i], data[i + 1]))\n",
    "\n",
    "# Add tooltips using mplcursors\n",
    "mplcursors.cursor(hover=True).connect(\"add\", lambda sel: sel.annotation.set_text(additional_data[sel.target.index]))\n"
   ],
   "metadata": {
    "collapsed": false
   },
   "id": "236c86f31dafea69"
  },
  {
   "cell_type": "code",
   "outputs": [],
   "source": [
    "    # Display the plot\n",
    "plt.title('Example Lag Plot with Hover Tooltips')\n",
    "plt.xlabel('Current Value')\n",
    "plt.ylabel('Previous Value')\n",
    "plt.show()\n"
   ],
   "metadata": {
    "collapsed": false
   },
   "id": "65b03bc5acf06ce2"
  }
 ],
 "metadata": {
  "kernelspec": {
   "display_name": "Python 3",
   "language": "python",
   "name": "python3"
  },
  "language_info": {
   "codemirror_mode": {
    "name": "ipython",
    "version": 2
   },
   "file_extension": ".py",
   "mimetype": "text/x-python",
   "name": "python",
   "nbconvert_exporter": "python",
   "pygments_lexer": "ipython2",
   "version": "2.7.6"
  }
 },
 "nbformat": 4,
 "nbformat_minor": 5
}
